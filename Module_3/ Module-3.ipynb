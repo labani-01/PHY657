{
 "cells": [
  {
   "cell_type": "code",
   "execution_count": 48,
   "id": "215c0326-da91-46f5-8d0a-35f21885e4bc",
   "metadata": {},
   "outputs": [],
   "source": [
    "import numpy as np\n",
    "import matplotlib.pyplot as plt\n",
    "from scipy.stats import bernoulli\n",
    "from scipy.special import factorial"
   ]
  },
  {
   "cell_type": "markdown",
   "id": "90e1bbc5-bafa-4877-8856-093c2ce919fd",
   "metadata": {},
   "source": [
    "# Activity - 1"
   ]
  },
  {
   "cell_type": "code",
   "execution_count": 49,
   "id": "59462d47-fc64-4fdd-8ea8-6bea09b7410c",
   "metadata": {},
   "outputs": [],
   "source": [
    "n, p_true, N = 1, .5, 100 # number of trials, probability of each trial (one binomial trial is N bernoulli trials)\n",
    "data = np.random.binomial(n, p_true, N) #(N = 100)"
   ]
  },
  {
   "cell_type": "code",
   "execution_count": 50,
   "id": "27ea9dae-240f-4150-a106-0d4c6338b723",
   "metadata": {},
   "outputs": [
    {
     "name": "stdout",
     "output_type": "stream",
     "text": [
      "[1 1 1 1 0 1 1 1 1 0 1 1 1 0 0 0 1 0 0 0 0 1 0 1 0 0 0 0 0 1 1 1 1 1 0 0 0\n",
      " 1 0 0 0 0 1 1 1 1 0 0 0 1 1 1 1 0 0 0 0 0 1 0 1 1 0 0 0 1 1 0 1 0 1 1 1 1\n",
      " 1 0 0 1 0 1 0 1 1 0 0 1 1 0 1 0 1 0 1 0 1 0 0 0 0 0]\n"
     ]
    }
   ],
   "source": [
    "print(data)"
   ]
  },
  {
   "cell_type": "markdown",
   "id": "5fbf1ce3-7b28-4b3b-8226-bf743adbe4c2",
   "metadata": {},
   "source": [
    "### Likelihood function is a binomial distribution with N = 100 bernoulli trials. \n",
    "### Probability of getting $x$ from a bernoulli distribution is, $P(X=x) = p^x (1-p)^{(1-x)}$ \n",
    "### Likelihood, $L(p) = \\prod_{n_i=1}^{N} p^{n_i} (1-p)^{(1-n_i)}$ \\\\\n",
    "### $\\log {L(p)} = \\sum_{n_i=1}^{N} (n_i \\log{p} + (1-n_i) \\log{(1-p)})$\\\\ \n",
    "### suppose, $k =$ number of heads, $L(k, p) = {N \\choose k} p^k(1-p)^{(N-k)}$ \\\\\n",
    "### So, $\\log{L(k, p)} = \\log {\\frac{N!}{k! (N - k)!} + k\\log{p} + (N-k)\\log{(1-p)}$ \\\\\n",
    "### maximization of $L(p)$ interms of $p$ will give us, \\\\\n",
    "### $\\frac{\\partial \\log{L(p)}}{\\partial p} = \\sum_{n_i=1}^{N} (\\frac{n_i}{p} - \\frac{1-n}{1-p}) = 0$ \\\\\n",
    "### so, the maximum likelihood estimator of p, $\\hat{p} = \\frac{\\sum_{n_i = 1}^{N} n_i}{N}$"
   ]
  },
  {
   "cell_type": "code",
   "execution_count": 51,
   "id": "38972966-c632-46bf-a2a0-1b70d09689fe",
   "metadata": {},
   "outputs": [
    {
     "name": "stdout",
     "output_type": "stream",
     "text": [
      "49\n"
     ]
    }
   ],
   "source": [
    "k = np.sum(data == 1)\n",
    "print(k)"
   ]
  },
  {
   "cell_type": "code",
   "execution_count": 52,
   "id": "ce3de7f5-c958-40a0-89ab-1c42c8618cf4",
   "metadata": {},
   "outputs": [
    {
     "name": "stdout",
     "output_type": "stream",
     "text": [
      "0.49\n"
     ]
    }
   ],
   "source": [
    "p_estimator = np.sum(data)/len(data)\n",
    "print(p_estimator)"
   ]
  },
  {
   "cell_type": "code",
   "execution_count": 53,
   "id": "7994a636-9ee7-46a4-852e-80bff0c75145",
   "metadata": {},
   "outputs": [],
   "source": [
    "def log_likelihood(k, p):\n",
    "    return np.log(factorial(N)/(factorial(k)*factorial(N - k))) + k*np.log(p) + (N-k)*np.log(1-p) "
   ]
  },
  {
   "cell_type": "code",
   "execution_count": 54,
   "id": "2310cb5e-b087-44ed-8e9d-18d10276a7ac",
   "metadata": {},
   "outputs": [
    {
     "name": "stdout",
     "output_type": "stream",
     "text": [
      "-2.530677697726574\n"
     ]
    }
   ],
   "source": [
    "result = log_likelihood(k, p_estimator)\n",
    "print(result)"
   ]
  },
  {
   "cell_type": "code",
   "execution_count": null,
   "id": "0726c2c6-5567-4c73-a34f-b4dc81741527",
   "metadata": {},
   "outputs": [],
   "source": []
  }
 ],
 "metadata": {
  "kernelspec": {
   "display_name": "Python 3 (ipykernel)",
   "language": "python",
   "name": "python3"
  },
  "language_info": {
   "codemirror_mode": {
    "name": "ipython",
    "version": 3
   },
   "file_extension": ".py",
   "mimetype": "text/x-python",
   "name": "python",
   "nbconvert_exporter": "python",
   "pygments_lexer": "ipython3",
   "version": "3.12.8"
  }
 },
 "nbformat": 4,
 "nbformat_minor": 5
}
