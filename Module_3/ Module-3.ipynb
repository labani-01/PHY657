{
 "cells": [
  {
   "cell_type": "code",
   "execution_count": null,
   "id": "215c0326-da91-46f5-8d0a-35f21885e4bc",
   "metadata": {},
   "outputs": [],
   "source": []
  }
 ],
 "metadata": {
  "kernelspec": {
   "display_name": "",
   "name": ""
  },
  "language_info": {
   "name": ""
  }
 },
 "nbformat": 4,
 "nbformat_minor": 5
}
