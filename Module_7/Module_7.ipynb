{
 "cells": [
  {
   "cell_type": "code",
   "execution_count": 1,
   "id": "e508306c-ab55-4305-a69f-a86c92c7e470",
   "metadata": {},
   "outputs": [],
   "source": [
    "import numpy as np\n",
    "import matplotlib.pyplot as plt\n",
    "import h5py\n",
    "import torch\n",
    "from sklearn.model_selection import train_test_split\n",
    "import glob\n",
    "import os\n",
    "from mpl_toolkits.mplot3d import Axes3D"
   ]
  },
  {
   "cell_type": "code",
   "execution_count": 2,
   "id": "957dd992-137a-4d48-a1fd-b010a7a8dfb3",
   "metadata": {},
   "outputs": [],
   "source": [
    "# Path to the data folder\n",
    "data_path = \"Mod7_data/data\"\n",
    "file_pattern = os.path.join(data_path, \"fof_subhalo_tab_000.*.hdf5\") \n",
    "files = sorted(glob.glob(file_pattern))\n",
    "\n",
    "# Loop through all files\n",
    "# for file in files:\n",
    "#     with h5py.File(file, 'r') as f:\n",
    "#         print(f\"File: {file}\")"
   ]
  },
  {
   "cell_type": "code",
   "execution_count": 3,
   "id": "339a4bbd-3b45-4032-8db3-a4cc408eeac8",
   "metadata": {},
   "outputs": [
    {
     "name": "stdout",
     "output_type": "stream",
     "text": [
      "<KeysViewHDF5 ['SubhaloBHMass', 'SubhaloBHMdot', 'SubhaloCM', 'SubhaloFlag', 'SubhaloGasMetalFractions', 'SubhaloGasMetalFractionsHalfRad', 'SubhaloGasMetalFractionsMaxRad', 'SubhaloGasMetalFractionsSfr', 'SubhaloGasMetalFractionsSfrWeighted', 'SubhaloGasMetallicity', 'SubhaloGasMetallicityHalfRad', 'SubhaloGasMetallicityMaxRad', 'SubhaloGasMetallicitySfr', 'SubhaloGasMetallicitySfrWeighted', 'SubhaloGrNr', 'SubhaloHalfmassRad', 'SubhaloHalfmassRadType', 'SubhaloIDMostbound', 'SubhaloLen', 'SubhaloLenType', 'SubhaloMass', 'SubhaloMassInHalfRad', 'SubhaloMassInHalfRadType', 'SubhaloMassInMaxRad', 'SubhaloMassInMaxRadType', 'SubhaloMassInRad', 'SubhaloMassInRadType', 'SubhaloMassType', 'SubhaloParent', 'SubhaloPos', 'SubhaloSFR', 'SubhaloSFRinHalfRad', 'SubhaloSFRinMaxRad', 'SubhaloSFRinRad', 'SubhaloSpin', 'SubhaloStarMetalFractions', 'SubhaloStarMetalFractionsHalfRad', 'SubhaloStarMetalFractionsMaxRad', 'SubhaloStarMetallicity', 'SubhaloStarMetallicityHalfRad', 'SubhaloStarMetallicityMaxRad', 'SubhaloStellarPhotometrics', 'SubhaloStellarPhotometricsMassInRad', 'SubhaloStellarPhotometricsRad', 'SubhaloVel', 'SubhaloVelDisp', 'SubhaloVmax', 'SubhaloVmaxRad', 'SubhaloWindMass']>\n",
      "<KeysViewHDF5 ['GroupBHMass', 'GroupBHMdot', 'GroupCM', 'GroupFirstSub', 'GroupGasMetalFractions', 'GroupGasMetallicity', 'GroupLen', 'GroupLenType', 'GroupMass', 'GroupMassType', 'GroupNsubs', 'GroupPos', 'GroupSFR', 'GroupStarMetalFractions', 'GroupStarMetallicity', 'GroupVel', 'GroupWindMass', 'Group_M_Crit200', 'Group_M_Crit500', 'Group_M_Mean200', 'Group_M_TopHat200', 'Group_R_Crit200', 'Group_R_Crit500', 'Group_R_Mean200', 'Group_R_TopHat200']>\n"
     ]
    }
   ],
   "source": [
    "with h5py.File(files[0], 'r') as f: #files[0] = Mod7_data/data/fof_subhalo_tab_000.0.hdf5 (1st data file)\n",
    "    data = f['Subhalo'].keys() \n",
    "    group = f['Group'].keys()\n",
    "    print(data)\n",
    "    print(group)"
   ]
  },
  {
   "cell_type": "code",
   "execution_count": 14,
   "id": "3acf33c7-1cd6-4742-abfe-5fc688e595ef",
   "metadata": {},
   "outputs": [],
   "source": [
    "# for file in files:\n",
    "#     with h5py.File(file, 'r') as f:\n",
    "#         pos = f['Subhalo']['SubhaloPos'][:]  # shape: (N, 3)\n",
    "\n",
    "# # 2D projection\n",
    "# # if pos.shape[0] > 10000:\n",
    "# #     idx = np.random.choice(pos.shape[0], 10000, replace=False)\n",
    "# #     pos = pos[idx]\n",
    "\n",
    "# # Plot 3D\n",
    "# fig = plt.figure(figsize=(10, 8))\n",
    "# ax = fig.add_subplot(111, projection='3d')\n",
    "# ax.scatter(pos[:, 0], pos[:, 1], pos[:, 2], s=1, alpha=0.3)\n",
    "\n",
    "# ax.set_xlabel('X [ckpc/h]')\n",
    "# ax.set_ylabel('Y [ckpc/h]')\n",
    "# ax.set_zlabel('Z [ckpc/h]')\n",
    "# ax.set_title('3D Distribution of Subhalos (Snapshot 0, TNG50-1)')\n",
    "# plt.tight_layout()\n",
    "# plt.show()\n"
   ]
  },
  {
   "cell_type": "code",
   "execution_count": 8,
   "id": "aba86cc7-c4e3-4e57-b00d-5f32a38d52ea",
   "metadata": {},
   "outputs": [],
   "source": [
    "# with h5py.File(files[0], 'r') as f:\n",
    "#     subhalo_pos = f[\"Subhalo\"][\"SubhaloPos\"][:]      # (N, 3)\n",
    "#     subhalo_grnr = f[\"Subhalo\"][\"SubhaloGrNr\"][:]    # (N,)\n",
    "#     group_mass = f[\"Group\"][\"GroupMass\"][:] * 1e10    # Msun/h\n",
    "\n",
    "# # Choose a specific FoF group (e.g. group 0)\n",
    "# group_id = 3\n",
    "# mask = subhalo_grnr == group_id\n",
    "# group_subhalo_pos = subhalo_pos[mask]\n",
    "\n",
    "# # Optional: convert to Mpc/h\n",
    "# group_subhalo_pos /= 1000.0\n",
    "\n",
    "# # Plot 3D\n",
    "# fig = plt.figure(figsize=(8, 6))\n",
    "# ax = fig.add_subplot(111, projection=\"3d\")\n",
    "# # ax.scatter(group_subhalo_pos[:, 0], group_subhalo_pos[:, 1], group_subhalo_pos[:, 2], s=20)\n",
    "\n",
    "# ax.set_title(f\"Subhalos in FoF Group {group_id}\\nTotal Mass: {group_mass[group_id]:.2e} Msun/h\")\n",
    "# ax.set_xlabel(\"X [Mpc/h]\")\n",
    "# ax.set_ylabel(\"Y [Mpc/h]\")\n",
    "# ax.set_zlabel(\"Z [Mpc/h]\")\n",
    "# # plt.show()"
   ]
  },
  {
   "cell_type": "markdown",
   "id": "69469a83-614a-44db-b5e3-827a5df1e241",
   "metadata": {},
   "source": [
    "### Loading Subhalo and Group fields from our data files to be used later"
   ]
  },
  {
   "cell_type": "code",
   "execution_count": 237,
   "id": "4b0d6e83-24e3-41a4-9cc3-92f80c6282c2",
   "metadata": {},
   "outputs": [],
   "source": [
    "fields = [\n",
    "    'SubhaloMassType',              # [N, 6] → use stellar mass (index 4)\n",
    "    'SubhaloVmax',                  # [N]\n",
    "    'SubhaloHalfmassRadType',      # [N, 6] → use stellar (index 4)\n",
    "    'SubhaloPos',                  # [N, 3] → for edge creation\n",
    "    'SubhaloGrNr',                 # [N] → FoF group\n",
    "    'SubhaloStellarPhotometrics',\n",
    "    'SubhaloVel'\n",
    "]\n",
    "\n",
    "halo_fields = ['GroupFirstSub', 'Group_M_Crit200']  # you can add more like GroupMass, GroupPos, etc."
   ]
  },
  {
   "cell_type": "code",
   "execution_count": 238,
   "id": "8037a973-5280-40dd-a6b0-736a4a02f5b7",
   "metadata": {},
   "outputs": [],
   "source": [
    "all_data = {field: [] for field in fields}\n",
    "\n",
    "for file in files:\n",
    "    with h5py.File(file, 'r') as f:\n",
    "        for field in fields:\n",
    "            all_data[field].append(f['Subhalo'][field][:])\n",
    "\n",
    "# Concatenate\n",
    "for field in fields:\n",
    "    all_data[field] = np.concatenate(all_data[field], axis=0)\n",
    "\n",
    "all_data_halo = {field: [] for field in halo_fields}\n",
    "\n",
    "for file in files:\n",
    "    with h5py.File(file, 'r') as f:\n",
    "        for field in halo_fields:\n",
    "            all_data_halo[field].append(f['Group'][field][:])\n",
    "\n",
    "# Concatenate across all files\n",
    "for field in halo_fields:\n",
    "    all_data_halo[field] = np.concatenate(all_data_halo[field], axis=0)"
   ]
  },
  {
   "cell_type": "code",
   "execution_count": 239,
   "id": "093cf55e-8bf1-4c97-8c33-49dfa32c0c40",
   "metadata": {},
   "outputs": [
    {
     "data": {
      "text/plain": [
       "array([[2.9402976e-03, 1.7919537e-02, 0.0000000e+00, 0.0000000e+00,\n",
       "        3.6461995e-05, 0.0000000e+00],\n",
       "       [8.3067629e-04, 1.0204608e-02, 0.0000000e+00, 0.0000000e+00,\n",
       "        3.9184753e-05, 0.0000000e+00],\n",
       "       [3.2379440e-04, 5.9321970e-03, 0.0000000e+00, 0.0000000e+00,\n",
       "        0.0000000e+00, 0.0000000e+00],\n",
       "       ...,\n",
       "       [2.0277090e-04, 1.4753650e-03, 0.0000000e+00, 0.0000000e+00,\n",
       "        0.0000000e+00, 0.0000000e+00],\n",
       "       [1.8255843e-04, 1.5061018e-03, 0.0000000e+00, 0.0000000e+00,\n",
       "        0.0000000e+00, 0.0000000e+00],\n",
       "       [1.9777255e-04, 1.4446282e-03, 0.0000000e+00, 0.0000000e+00,\n",
       "        0.0000000e+00, 0.0000000e+00]], dtype=float32)"
      ]
     },
     "execution_count": 239,
     "metadata": {},
     "output_type": "execute_result"
    }
   ],
   "source": [
    "all_data['SubhaloMassType']"
   ]
  },
  {
   "cell_type": "code",
   "execution_count": 242,
   "id": "ff2e8529-457f-4b67-98fa-97bdcc1cf567",
   "metadata": {},
   "outputs": [],
   "source": [
    "subhalo_grnr = all_data['SubhaloGrNr']        # shape (N,)\n",
    "group_firstsub = all_data_halo['GroupFirstSub']  # shape (N_groups,)\n",
    "group_mass = all_data_halo['Group_M_Crit200']  # shape: (N_groups,)\n",
    "\n",
    "# Get subhalo indices (0...N-1)\n",
    "subhalo_indices = np.arange(len(subhalo_grnr))\n",
    "\n",
    "# Lookup the central subhalo ID for each subhalo's FoF group\n",
    "central_ids = group_firstsub[subhalo_grnr]\n",
    "\n",
    "# Compare: is this subhalo the central?\n",
    "is_central = (subhalo_indices == central_ids).astype(int)  # 1 = central, 0 = satellite\n"
   ]
  },
  {
   "cell_type": "code",
   "execution_count": 243,
   "id": "c741bd43-686b-49bc-aeaa-c968a4f6d0b3",
   "metadata": {},
   "outputs": [],
   "source": [
    "# Convert to physical units [Msun]\n",
    "group_mass_phys = group_mass / h * 1e10  # FoF halo mass in Msun\n",
    "\n",
    "# Get the halo mass for each subhalo\n",
    "subhalo_halo_mass = group_mass_phys[subhalo_grnr]\n",
    "log_halo_mass = np.log10(subhalo_halo_mass + 1e-8)"
   ]
  },
  {
   "cell_type": "markdown",
   "id": "d7b0aa8b-e1c0-4f4d-a676-45bdeb45d0cf",
   "metadata": {},
   "source": [
    "## Define feature matrix: \n",
    "### Selected type 4 for considering only galaxies \n",
    "\n",
    "    1. Stellar mass of galaxy  \n",
    "    2. Its half mass radius - Comoving radius containing half of the mass of this Subhalo\n",
    "    3. Maximum value of the spherically-averaged rotation curve.\n",
    "    4. Whether object is central or a satellite galaxy"
   ]
  },
  {
   "cell_type": "code",
   "execution_count": 245,
   "id": "b69819d9-5025-47f3-8bcb-113be42da610",
   "metadata": {},
   "outputs": [
    {
     "name": "stdout",
     "output_type": "stream",
     "text": [
      "Number of nodes after cut: 210\n"
     ]
    }
   ],
   "source": [
    "h = 0.6774\n",
    "\n",
    "# Stellar mass from SubhaloMassType[:,4]\n",
    "stellar_mass = all_data['SubhaloMassType'][:, 4] / h\n",
    "log_stellar_mass = np.log10(stellar_mass + 1e-8) + 10\n",
    "\n",
    "# Stellar halfmass radius\n",
    "half_mass_rad = all_data['SubhaloHalfmassRadType'][:, 4]\n",
    "log_half_mass_rad = np.log10(half_mass_rad + 1e-8)\n",
    "\n",
    "# Vmax\n",
    "vmax = all_data['SubhaloVmax']\n",
    "log_vmax = np.log10(vmax + 1e-8)\n",
    "\n",
    "photometry = all_data['SubhaloStellarPhotometrics']  # shape: (N, 8)\n",
    "velocity = all_data['SubhaloVel']                    # shape: (N, 3)\n",
    "\n",
    "# Cut: stellar mass > 1e5 and halfmass radius > 0 and Vmax > 0\n",
    "mask = (log_stellar_mass > 5) & (vmax > 0) & (half_mass_rad > 0)\n",
    "\n",
    "# Apply mask\n",
    "positions = all_data['SubhaloPos'][mask]\n",
    "features = np.stack([\n",
    "    log_stellar_mass[mask],\n",
    "    log_vmax[mask],\n",
    "    log_half_mass_rad[mask]\n",
    "], axis=1)  # shape: (N, 3)\n",
    "is_central_masked = is_central[mask].reshape(-1, 1)  # shape: (N, 1)\n",
    "features = np.hstack([features, is_central_masked])\n",
    "\n",
    "print(f\"Number of nodes after cut: {positions.shape[0]}\")"
   ]
  },
  {
   "cell_type": "markdown",
   "id": "eebcb2fd-be64-4e5a-b4f8-ddf54c4ff8b4",
   "metadata": {},
   "source": [
    "### Selecting nearest neighbors of galaxies from sklearn to establish edges"
   ]
  },
  {
   "cell_type": "code",
   "execution_count": 246,
   "id": "23c61a63-ae81-482e-be64-b1f1a344c2a3",
   "metadata": {},
   "outputs": [],
   "source": [
    "from sklearn.neighbors import NearestNeighbors\n",
    "import torch\n",
    "from torch_geometric.data import Data\n",
    "\n",
    "k = 10\n",
    "knn = NearestNeighbors(n_neighbors=k+1).fit(positions)\n",
    "_, indices = knn.kneighbors(positions)\n",
    "\n",
    "src = np.repeat(np.arange(len(indices)), k)\n",
    "dst = indices[:, 1:].flatten()\n",
    "edge_index = torch.tensor([src, dst], dtype=torch.long)"
   ]
  },
  {
   "cell_type": "code",
   "execution_count": 247,
   "id": "1ed09dc0-eb8d-487e-8eb8-dabc3a97e7de",
   "metadata": {},
   "outputs": [],
   "source": [
    "x = torch.tensor(features, dtype=torch.float)\n",
    "y = torch.tensor(log_halo_mass[mask], dtype=torch.float)\n",
    "#y = torch.tensor(log_stellar_mass[mask], dtype=torch.float)  # or any target\n",
    "\n",
    "data = Data(x=x, edge_index=edge_index, y=y)"
   ]
  },
  {
   "cell_type": "code",
   "execution_count": 248,
   "id": "d1a76935-03fd-4e2e-982f-f4ae49b4aa67",
   "metadata": {},
   "outputs": [],
   "source": [
    "from torch_geometric.nn import GCNConv\n",
    "import torch.nn.functional as F\n",
    "\n",
    "class SimpleGNN(torch.nn.Module):\n",
    "    def __init__(self, in_channels):\n",
    "        super().__init__()\n",
    "        self.conv1 = GCNConv(in_channels, 32)\n",
    "        self.conv2 = GCNConv(32, 64)\n",
    "        self.conv3 = GCNConv(64, 32)\n",
    "        self.out = torch.nn.Linear(32, 1)\n",
    "\n",
    "    def forward(self, x, edge_index):\n",
    "        x = F.relu(self.conv1(x, edge_index))\n",
    "        x = F.relu(self.conv2(x, edge_index))\n",
    "        x = F.relu(self.conv3(x, edge_index))\n",
    "        x = self.out(x).squeeze()\n",
    "        return x"
   ]
  },
  {
   "cell_type": "code",
   "execution_count": 220,
   "id": "7076d341-9c0d-4979-a23f-4343f83c893e",
   "metadata": {},
   "outputs": [],
   "source": [
    "from torch_geometric.nn import GATConv\n",
    "import torch.nn.functional as F\n",
    "\n",
    "class GAT(torch.nn.Module):\n",
    "    def __init__(self, in_channels):\n",
    "        super().__init__()\n",
    "        self.gat1 = GATConv(in_channels, 32, heads=4, concat=True)  # 4 heads → output dim = 32*4 = 128\n",
    "        self.gat2 = GATConv(128, 64, heads=1, concat=True)\n",
    "        self.out = torch.nn.Linear(64, 1)  # regression: 1 output\n",
    "\n",
    "    def forward(self, x, edge_index):\n",
    "        x = F.elu(self.gat1(x, edge_index))\n",
    "        x = F.dropout(x, p=0.3, training=self.training)\n",
    "        x = F.elu(self.gat2(x, edge_index))\n",
    "        x = self.out(x).squeeze()\n",
    "        return x"
   ]
  },
  {
   "cell_type": "code",
   "execution_count": 265,
   "id": "cb8e2877-0fce-445f-8ed3-4580a7b4789f",
   "metadata": {},
   "outputs": [
    {
     "name": "stdout",
     "output_type": "stream",
     "text": [
      "Epoch 0, Train Loss: 59.6468, Test Loss: 60.1902\n",
      "Epoch 500, Train Loss: 4.6502, Test Loss: 0.9915\n",
      "Epoch 1000, Train Loss: 4.4721, Test Loss: 0.5065\n",
      "Epoch 1500, Train Loss: 4.4466, Test Loss: 0.4706\n",
      "Epoch 2000, Train Loss: 4.4179, Test Loss: 0.4728\n"
     ]
    }
   ],
   "source": [
    "model = SimpleGNN(in_channels=x.shape[1])\n",
    "optimizer = torch.optim.Adam(model.parameters(), lr=0.01)\n",
    "loss_fn = torch.nn.MSELoss()\n",
    "\n",
    "# Split into train/test\n",
    "num_nodes = data.num_nodes\n",
    "perm = torch.randperm(num_nodes)\n",
    "split = int(0.8 * num_nodes)\n",
    "train_mask = perm[:split]\n",
    "test_mask = perm[split:]\n",
    "\n",
    "for epoch in range(2500):\n",
    "    model.train()\n",
    "    optimizer.zero_grad()\n",
    "    pred = model(data.x, data.edge_index)\n",
    "    loss = loss_fn(pred[train_mask], data.y[train_mask])\n",
    "    loss.backward()\n",
    "    optimizer.step()\n",
    "\n",
    "    if epoch % 500 == 0:\n",
    "        test_loss = loss_fn(pred[test_mask], data.y[test_mask]).item()\n",
    "        print(f\"Epoch {epoch}, Train Loss: {loss.item():.4f}, Test Loss: {test_loss:.4f}\")"
   ]
  },
  {
   "cell_type": "code",
   "execution_count": 266,
   "id": "097f183c-bf1f-46a1-a632-7a528dc7ddf2",
   "metadata": {},
   "outputs": [],
   "source": [
    "model.eval()\n",
    "with torch.no_grad():\n",
    "    predictions = model(data.x, data.edge_index)"
   ]
  },
  {
   "cell_type": "code",
   "execution_count": 267,
   "id": "23f8f662-269a-4f7a-95c1-6e43c1b11184",
   "metadata": {},
   "outputs": [
    {
     "data": {
      "image/png": "[encoded data removed]",
      "text/plain": [
       "<Figure size 700x600 with 1 Axes>"
      ]
     },
     "metadata": {},
     "output_type": "display_data"
    }
   ],
   "source": [
    "import matplotlib.pyplot as plt\n",
    "\n",
    "true = data.y[test_mask].cpu().numpy()\n",
    "pred = predictions[test_mask].cpu().numpy()\n",
    "\n",
    "plt.figure(figsize=(7, 6))\n",
    "plt.scatter(true, pred, alpha=0.4, s=10)\n",
    "plt.plot([true.min(), true.max()], [true.min(), true.max()], 'r--', label='1-to-1 line')\n",
    "plt.xlabel(\"True log Halo Mass\")\n",
    "plt.ylabel(\"Predicted log Halo Mass\")\n",
    "plt.title(\"GNN Prediction vs True Halo Mass\")\n",
    "plt.legend()\n",
    "plt.grid(True)\n",
    "plt.tight_layout()\n",
    "plt.show()"
   ]
  },
  {
   "cell_type": "code",
   "execution_count": 268,
   "id": "aaa431ed-d960-4dad-b10d-24b7cebec33c",
   "metadata": {},
   "outputs": [
    {
     "name": "stdout",
     "output_type": "stream",
     "text": [
      "R² score: -0.2544\n",
      "RMSE: 0.6802 dex\n"
     ]
    }
   ],
   "source": [
    "from sklearn.metrics import r2_score, root_mean_squared_error\n",
    "\n",
    "r2 = r2_score(true, pred)\n",
    "rmse = root_mean_squared_error(true, pred)\n",
    "print(f\"R² score: {r2:.4f}\")\n",
    "print(f\"RMSE: {rmse:.4f} dex\")"
   ]
  },
  {
   "cell_type": "markdown",
   "id": "1b609e34-7bb9-4ec1-8000-02bfe79cf1f6",
   "metadata": {},
   "source": [
    "### Define edges: So we need to know the location of all nodes (subhalos) and will use k-nearest neighbours to connect them"
   ]
  }
 ],
 "metadata": {
  "kernelspec": {
   "display_name": "Python 3 (ipykernel)",
   "language": "python",
   "name": "python3"
  },
  "language_info": {
   "codemirror_mode": {
    "name": "ipython",
    "version": 3
   },
   "file_extension": ".py",
   "mimetype": "text/x-python",
   "name": "python",
   "nbconvert_exporter": "python",
   "pygments_lexer": "ipython3",
   "version": "3.11.9"
  }
 },
 "nbformat": 4,
 "nbformat_minor": 5
}
