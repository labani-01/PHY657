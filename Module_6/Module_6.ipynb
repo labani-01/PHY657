{
 "cells": [
  {
   "cell_type": "code",
   "execution_count": 10,
   "id": "ea081d72-2a12-419e-b2e3-10a54b1a2b5b",
   "metadata": {},
   "outputs": [],
   "source": [
    "import pandas as pd\n",
    "import numpy as np\n",
    "import matplotlib.pyplot as plt\n",
    "from sklearn.ensemble import AdaBoostClassifier\n",
    "from sklearn.datasets import make_classification"
   ]
  },
  {
   "cell_type": "code",
   "execution_count": 11,
   "id": "f35af707-1f8c-4fbb-a5a8-9a255eea5d48",
   "metadata": {},
   "outputs": [
    {
     "name": "stdout",
     "output_type": "stream",
     "text": [
      "    Feature 0 Feature 1 Feature 2 Feature 3     Species\n",
      "100       5.7       2.8       4.1       1.3  Versicolor\n",
      "101       6.3       3.3         6       2.5   Virginica\n",
      "102       5.8       2.7       5.1       1.9   Virginica\n",
      "103       7.1         3       5.9       2.1   Virginica\n",
      "104       6.3       2.9       5.6       1.8   Virginica\n",
      "105       6.5         3       5.8       2.2   Virginica\n",
      "106       7.6         3       6.6       2.1   Virginica\n",
      "107       4.9       2.5       4.5       1.7   Virginica\n",
      "108       7.3       2.9       6.3       1.8   Virginica\n",
      "109       6.7       2.5       5.8       1.8   Virginica\n",
      "110       7.2       3.6       6.1       2.5   Virginica\n",
      "111       6.5       3.2       5.1         2   Virginica\n",
      "112       6.4       2.7       5.3       1.9   Virginica\n",
      "113       6.8         3       5.5       2.1   Virginica\n",
      "114       5.7       2.5         5         2   Virginica\n",
      "115       5.8       2.8       5.1       2.4   Virginica\n",
      "116       6.4       3.2       5.3       2.3   Virginica\n",
      "117       6.5         3       5.5       1.8   Virginica\n",
      "118       7.7       3.8       6.7       2.2   Virginica\n",
      "119       7.7       2.6       6.9       2.3   Virginica\n",
      "120         6       2.2         5       1.5   Virginica\n",
      "121       6.9       3.2       5.7       2.3   Virginica\n",
      "122       5.6       2.8       4.9         2   Virginica\n",
      "123       7.7       2.8       6.7         2   Virginica\n",
      "124       6.3       2.7       4.9       1.8   Virginica\n",
      "125       6.7       3.3       5.7       2.1   Virginica\n",
      "126       7.2       3.2         6       1.8   Virginica\n",
      "127       6.2       2.8       4.8       1.8   Virginica\n",
      "128       6.1         3       4.9       1.8   Virginica\n",
      "129       6.4       2.8       5.6       2.1   Virginica\n",
      "130       7.2         3       5.8       1.6   Virginica\n",
      "131       7.4       2.8       6.1       1.9   Virginica\n",
      "132       7.9       3.8       6.4         2   Virginica\n",
      "133       6.4       2.8       5.6       2.2   Virginica\n",
      "134       6.3       2.8       5.1       1.5   Virginica\n",
      "135       6.1       2.6       5.6       1.4   Virginica\n",
      "136       7.7         3       6.1       2.3   Virginica\n",
      "137       6.3       3.4       5.6       2.4   Virginica\n",
      "138       6.4       3.1       5.5       1.8   Virginica\n",
      "139         6         3       4.8       1.8   Virginica\n",
      "140       6.9       3.1       5.4       2.1   Virginica\n",
      "141       6.7       3.1       5.6       2.4   Virginica\n",
      "142       6.9       3.1       5.1       2.3   Virginica\n",
      "143       5.8       2.7       5.1       1.9   Virginica\n",
      "144       6.8       3.2       5.9       2.3   Virginica\n",
      "145       6.7       3.3       5.7       2.5   Virginica\n",
      "146       6.7         3       5.2       2.3   Virginica\n",
      "147       6.3       2.5         5       1.9   Virginica\n",
      "148       6.5         3       5.2         2   Virginica\n"
     ]
    }
   ],
   "source": [
    "# Define column names (since the dataset doesn't include headers)\n",
    "column_names = [\"Feature 0\", \"Feature 1\", \"Feature 2\", \"Feature 3\", \"Species\"]\n",
    "\n",
    "url = \"https://gist.githubusercontent.com/netj/8836201/raw/6f9306ad21398ea43cba4f7d537619d0e07d5ae3/iris.csv\"\n",
    "df = pd.read_csv(url, names=column_names)\n",
    "\n",
    "# Display the first few rows\n",
    "print(df[100:149])"
   ]
  },
  {
   "cell_type": "code",
   "execution_count": 12,
   "id": "7bf57b1b-65a2-4e0c-8ca2-5b886ecc1927",
   "metadata": {},
   "outputs": [],
   "source": [
    "df_filtered = df[df[\"Species\"].isin([\"Setosa\", \"Versicolor\", \"Virginica\"])]"
   ]
  },
  {
   "cell_type": "code",
   "execution_count": 13,
   "id": "1fab4830-cfce-456c-b8f2-c5558d5b5457",
   "metadata": {},
   "outputs": [
    {
     "ename": "KeyError",
     "evalue": "\"None of [Index(['x1', 'x2'], dtype='object')] are in the [columns]\"",
     "output_type": "error",
     "traceback": [
      "\u001b[0;31m---------------------------------------------------------------------------\u001b[0m",
      "\u001b[0;31mKeyError\u001b[0m                                  Traceback (most recent call last)",
      "Cell \u001b[0;32mIn[13], line 2\u001b[0m\n\u001b[1;32m      1\u001b[0m sample1 \u001b[38;5;241m=\u001b[39m df_filtered[df_filtered[\u001b[38;5;124m'\u001b[39m\u001b[38;5;124mSpecies\u001b[39m\u001b[38;5;124m'\u001b[39m] \u001b[38;5;241m==\u001b[39m \u001b[38;5;124m'\u001b[39m\u001b[38;5;124mIris-setosa\u001b[39m\u001b[38;5;124m'\u001b[39m][[\u001b[38;5;124m'\u001b[39m\u001b[38;5;124mFeature 0\u001b[39m\u001b[38;5;124m'\u001b[39m, \u001b[38;5;124m'\u001b[39m\u001b[38;5;124mFeature 1\u001b[39m\u001b[38;5;124m'\u001b[39m]]\u001b[38;5;241m.\u001b[39mvalues  \u001b[38;5;66;03m# Setosa samples\u001b[39;00m\n\u001b[0;32m----> 2\u001b[0m sample2 \u001b[38;5;241m=\u001b[39m \u001b[43mdf_filtered\u001b[49m\u001b[43m[\u001b[49m\u001b[43mdf_filtered\u001b[49m\u001b[43m[\u001b[49m\u001b[38;5;124;43m'\u001b[39;49m\u001b[38;5;124;43mSpecies\u001b[39;49m\u001b[38;5;124;43m'\u001b[39;49m\u001b[43m]\u001b[49m\u001b[43m \u001b[49m\u001b[38;5;241;43m==\u001b[39;49m\u001b[43m \u001b[49m\u001b[38;5;124;43m'\u001b[39;49m\u001b[38;5;124;43mIris-versicolor\u001b[39;49m\u001b[38;5;124;43m'\u001b[39;49m\u001b[43m]\u001b[49m\u001b[43m[\u001b[49m\u001b[43m[\u001b[49m\u001b[38;5;124;43m'\u001b[39;49m\u001b[38;5;124;43mx1\u001b[39;49m\u001b[38;5;124;43m'\u001b[39;49m\u001b[43m,\u001b[49m\u001b[43m \u001b[49m\u001b[38;5;124;43m'\u001b[39;49m\u001b[38;5;124;43mx2\u001b[39;49m\u001b[38;5;124;43m'\u001b[39;49m\u001b[43m]\u001b[49m\u001b[43m]\u001b[49m\u001b[38;5;241m.\u001b[39mvalues  \u001b[38;5;66;03m# Versicolor samples\u001b[39;00m\n",
      "File \u001b[0;32m~/anaconda3/envs/general_work/lib/python3.12/site-packages/pandas/core/frame.py:4108\u001b[0m, in \u001b[0;36mDataFrame.__getitem__\u001b[0;34m(self, key)\u001b[0m\n\u001b[1;32m   4106\u001b[0m     \u001b[38;5;28;01mif\u001b[39;00m is_iterator(key):\n\u001b[1;32m   4107\u001b[0m         key \u001b[38;5;241m=\u001b[39m \u001b[38;5;28mlist\u001b[39m(key)\n\u001b[0;32m-> 4108\u001b[0m     indexer \u001b[38;5;241m=\u001b[39m \u001b[38;5;28;43mself\u001b[39;49m\u001b[38;5;241;43m.\u001b[39;49m\u001b[43mcolumns\u001b[49m\u001b[38;5;241;43m.\u001b[39;49m\u001b[43m_get_indexer_strict\u001b[49m\u001b[43m(\u001b[49m\u001b[43mkey\u001b[49m\u001b[43m,\u001b[49m\u001b[43m \u001b[49m\u001b[38;5;124;43m\"\u001b[39;49m\u001b[38;5;124;43mcolumns\u001b[39;49m\u001b[38;5;124;43m\"\u001b[39;49m\u001b[43m)\u001b[49m[\u001b[38;5;241m1\u001b[39m]\n\u001b[1;32m   4110\u001b[0m \u001b[38;5;66;03m# take() does not accept boolean indexers\u001b[39;00m\n\u001b[1;32m   4111\u001b[0m \u001b[38;5;28;01mif\u001b[39;00m \u001b[38;5;28mgetattr\u001b[39m(indexer, \u001b[38;5;124m\"\u001b[39m\u001b[38;5;124mdtype\u001b[39m\u001b[38;5;124m\"\u001b[39m, \u001b[38;5;28;01mNone\u001b[39;00m) \u001b[38;5;241m==\u001b[39m \u001b[38;5;28mbool\u001b[39m:\n",
      "File \u001b[0;32m~/anaconda3/envs/general_work/lib/python3.12/site-packages/pandas/core/indexes/base.py:6200\u001b[0m, in \u001b[0;36mIndex._get_indexer_strict\u001b[0;34m(self, key, axis_name)\u001b[0m\n\u001b[1;32m   6197\u001b[0m \u001b[38;5;28;01melse\u001b[39;00m:\n\u001b[1;32m   6198\u001b[0m     keyarr, indexer, new_indexer \u001b[38;5;241m=\u001b[39m \u001b[38;5;28mself\u001b[39m\u001b[38;5;241m.\u001b[39m_reindex_non_unique(keyarr)\n\u001b[0;32m-> 6200\u001b[0m \u001b[38;5;28;43mself\u001b[39;49m\u001b[38;5;241;43m.\u001b[39;49m\u001b[43m_raise_if_missing\u001b[49m\u001b[43m(\u001b[49m\u001b[43mkeyarr\u001b[49m\u001b[43m,\u001b[49m\u001b[43m \u001b[49m\u001b[43mindexer\u001b[49m\u001b[43m,\u001b[49m\u001b[43m \u001b[49m\u001b[43maxis_name\u001b[49m\u001b[43m)\u001b[49m\n\u001b[1;32m   6202\u001b[0m keyarr \u001b[38;5;241m=\u001b[39m \u001b[38;5;28mself\u001b[39m\u001b[38;5;241m.\u001b[39mtake(indexer)\n\u001b[1;32m   6203\u001b[0m \u001b[38;5;28;01mif\u001b[39;00m \u001b[38;5;28misinstance\u001b[39m(key, Index):\n\u001b[1;32m   6204\u001b[0m     \u001b[38;5;66;03m# GH 42790 - Preserve name from an Index\u001b[39;00m\n",
      "File \u001b[0;32m~/anaconda3/envs/general_work/lib/python3.12/site-packages/pandas/core/indexes/base.py:6249\u001b[0m, in \u001b[0;36mIndex._raise_if_missing\u001b[0;34m(self, key, indexer, axis_name)\u001b[0m\n\u001b[1;32m   6247\u001b[0m \u001b[38;5;28;01mif\u001b[39;00m nmissing:\n\u001b[1;32m   6248\u001b[0m     \u001b[38;5;28;01mif\u001b[39;00m nmissing \u001b[38;5;241m==\u001b[39m \u001b[38;5;28mlen\u001b[39m(indexer):\n\u001b[0;32m-> 6249\u001b[0m         \u001b[38;5;28;01mraise\u001b[39;00m \u001b[38;5;167;01mKeyError\u001b[39;00m(\u001b[38;5;124mf\u001b[39m\u001b[38;5;124m\"\u001b[39m\u001b[38;5;124mNone of [\u001b[39m\u001b[38;5;132;01m{\u001b[39;00mkey\u001b[38;5;132;01m}\u001b[39;00m\u001b[38;5;124m] are in the [\u001b[39m\u001b[38;5;132;01m{\u001b[39;00maxis_name\u001b[38;5;132;01m}\u001b[39;00m\u001b[38;5;124m]\u001b[39m\u001b[38;5;124m\"\u001b[39m)\n\u001b[1;32m   6251\u001b[0m     not_found \u001b[38;5;241m=\u001b[39m \u001b[38;5;28mlist\u001b[39m(ensure_index(key)[missing_mask\u001b[38;5;241m.\u001b[39mnonzero()[\u001b[38;5;241m0\u001b[39m]]\u001b[38;5;241m.\u001b[39munique())\n\u001b[1;32m   6252\u001b[0m     \u001b[38;5;28;01mraise\u001b[39;00m \u001b[38;5;167;01mKeyError\u001b[39;00m(\u001b[38;5;124mf\u001b[39m\u001b[38;5;124m\"\u001b[39m\u001b[38;5;132;01m{\u001b[39;00mnot_found\u001b[38;5;132;01m}\u001b[39;00m\u001b[38;5;124m not in index\u001b[39m\u001b[38;5;124m\"\u001b[39m)\n",
      "\u001b[0;31mKeyError\u001b[0m: \"None of [Index(['x1', 'x2'], dtype='object')] are in the [columns]\""
     ]
    }
   ],
   "source": [
    "sample1 = df_filtered[df_filtered['Species'] == 'Iris-setosa'][['Feature 0', 'Feature 1']].values  # Setosa samples\n",
    "sample2 = df_filtered[df_filtered['Species'] == 'Iris-versicolor'][['x1', 'x2']].values  # Versicolor samples\n"
   ]
  },
  {
   "cell_type": "code",
   "execution_count": null,
   "id": "9cf11a42-cb85-4115-aa14-c2278545f74d",
   "metadata": {},
   "outputs": [],
   "source": []
  }
 ],
 "metadata": {
  "kernelspec": {
   "display_name": "Python 3 (ipykernel)",
   "language": "python",
   "name": "python3"
  },
  "language_info": {
   "codemirror_mode": {
    "name": "ipython",
    "version": 3
   },
   "file_extension": ".py",
   "mimetype": "text/x-python",
   "name": "python",
   "nbconvert_exporter": "python",
   "pygments_lexer": "ipython3",
   "version": "3.12.8"
  }
 },
 "nbformat": 4,
 "nbformat_minor": 5
}
